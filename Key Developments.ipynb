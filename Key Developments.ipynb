{
 "cells": [
  {
   "cell_type": "code",
   "execution_count": 1,
   "id": "76cb414a-6995-4f7a-8a1c-f303438dbc45",
   "metadata": {
    "tags": []
   },
   "outputs": [],
   "source": [
    "import numpy as np\n",
    "import pandas as pd\n",
    "import matplotlib.pyplot as plt\n",
    "import seaborn as sns\n",
    "from sklearn.model_selection import train_test_split\n",
    "from sklearn.linear_model import LinearRegression\n",
    "from sklearn.metrics import mean_squared_error, r2_score\n",
    "import statsmodels.api as sm\n",
    "from scipy import stats"
   ]
  },
  {
   "cell_type": "code",
   "execution_count": 4,
   "id": "f6373d01-35e7-470d-9cf4-6924844644f7",
   "metadata": {
    "tags": []
   },
   "outputs": [
    {
     "name": "stdout",
     "output_type": "stream",
     "text": [
      "<class 'pandas.core.frame.DataFrame'>\n",
      "RangeIndex: 18100 entries, 0 to 18099\n",
      "Data columns (total 9 columns):\n",
      " #   Column          Non-Null Count  Dtype  \n",
      "---  ------          --------------  -----  \n",
      " 0   companyid       18100 non-null  int64  \n",
      " 1   companyname     18100 non-null  object \n",
      " 2   headline        18100 non-null  object \n",
      " 3   eventtype       18100 non-null  object \n",
      " 4   objectroletype  18100 non-null  object \n",
      " 5   announcedate    18100 non-null  object \n",
      " 6   entereddateutc  18100 non-null  object \n",
      " 7   sptodate        0 non-null      float64\n",
      " 8   gvkey           18095 non-null  float64\n",
      "dtypes: float64(2), int64(1), object(6)\n",
      "memory usage: 1.2+ MB\n"
     ]
    },
    {
     "data": {
      "text/html": [
       "<div>\n",
       "<style scoped>\n",
       "    .dataframe tbody tr th:only-of-type {\n",
       "        vertical-align: middle;\n",
       "    }\n",
       "\n",
       "    .dataframe tbody tr th {\n",
       "        vertical-align: top;\n",
       "    }\n",
       "\n",
       "    .dataframe thead th {\n",
       "        text-align: right;\n",
       "    }\n",
       "</style>\n",
       "<table border=\"1\" class=\"dataframe\">\n",
       "  <thead>\n",
       "    <tr style=\"text-align: right;\">\n",
       "      <th></th>\n",
       "      <th>companyid</th>\n",
       "      <th>companyname</th>\n",
       "      <th>headline</th>\n",
       "      <th>eventtype</th>\n",
       "      <th>objectroletype</th>\n",
       "      <th>announcedate</th>\n",
       "      <th>entereddateutc</th>\n",
       "      <th>sptodate</th>\n",
       "      <th>gvkey</th>\n",
       "    </tr>\n",
       "  </thead>\n",
       "  <tbody>\n",
       "    <tr>\n",
       "      <th>0</th>\n",
       "      <td>21835</td>\n",
       "      <td>Microsoft Corporation</td>\n",
       "      <td>Microsoft's RMS POS Software Integrates to Nex...</td>\n",
       "      <td>Client Announcements</td>\n",
       "      <td>Target</td>\n",
       "      <td>1/3/2014</td>\n",
       "      <td>07JAN2014:08:06:00.000000</td>\n",
       "      <td>NaN</td>\n",
       "      <td>12141.0</td>\n",
       "    </tr>\n",
       "    <tr>\n",
       "      <th>1</th>\n",
       "      <td>21835</td>\n",
       "      <td>Microsoft Corporation</td>\n",
       "      <td>Microsoft Corporation, Q2 2014 Earnings Call, ...</td>\n",
       "      <td>Earnings Calls</td>\n",
       "      <td>Target</td>\n",
       "      <td>1/3/2014</td>\n",
       "      <td>03JAN2014:18:28:00.000000</td>\n",
       "      <td>NaN</td>\n",
       "      <td>12141.0</td>\n",
       "    </tr>\n",
       "    <tr>\n",
       "      <th>2</th>\n",
       "      <td>21835</td>\n",
       "      <td>Microsoft Corporation</td>\n",
       "      <td>Microsoft Corporation to Report Q2, 2014 Resul...</td>\n",
       "      <td>Earnings Release Date</td>\n",
       "      <td>Target</td>\n",
       "      <td>1/3/2014</td>\n",
       "      <td>03JAN2014:18:24:00.000000</td>\n",
       "      <td>NaN</td>\n",
       "      <td>12141.0</td>\n",
       "    </tr>\n",
       "    <tr>\n",
       "      <th>3</th>\n",
       "      <td>21835</td>\n",
       "      <td>Microsoft Corporation</td>\n",
       "      <td>Microsoft Releases Linux Integration Services ...</td>\n",
       "      <td>Product-Related Announcements</td>\n",
       "      <td>Target</td>\n",
       "      <td>1/3/2014</td>\n",
       "      <td>07JAN2014:04:11:00.000000</td>\n",
       "      <td>NaN</td>\n",
       "      <td>12141.0</td>\n",
       "    </tr>\n",
       "    <tr>\n",
       "      <th>4</th>\n",
       "      <td>21835</td>\n",
       "      <td>Microsoft Corporation</td>\n",
       "      <td>Microsoft RMS POS Software Integrates to BlueT...</td>\n",
       "      <td>Client Announcements</td>\n",
       "      <td>Target</td>\n",
       "      <td>1/8/2014</td>\n",
       "      <td>09JAN2014:10:32:00.000000</td>\n",
       "      <td>NaN</td>\n",
       "      <td>12141.0</td>\n",
       "    </tr>\n",
       "  </tbody>\n",
       "</table>\n",
       "</div>"
      ],
      "text/plain": [
       "   companyid            companyname  \\\n",
       "0      21835  Microsoft Corporation   \n",
       "1      21835  Microsoft Corporation   \n",
       "2      21835  Microsoft Corporation   \n",
       "3      21835  Microsoft Corporation   \n",
       "4      21835  Microsoft Corporation   \n",
       "\n",
       "                                            headline  \\\n",
       "0  Microsoft's RMS POS Software Integrates to Nex...   \n",
       "1  Microsoft Corporation, Q2 2014 Earnings Call, ...   \n",
       "2  Microsoft Corporation to Report Q2, 2014 Resul...   \n",
       "3  Microsoft Releases Linux Integration Services ...   \n",
       "4  Microsoft RMS POS Software Integrates to BlueT...   \n",
       "\n",
       "                       eventtype objectroletype announcedate  \\\n",
       "0           Client Announcements         Target     1/3/2014   \n",
       "1                 Earnings Calls         Target     1/3/2014   \n",
       "2          Earnings Release Date         Target     1/3/2014   \n",
       "3  Product-Related Announcements         Target     1/3/2014   \n",
       "4           Client Announcements         Target     1/8/2014   \n",
       "\n",
       "              entereddateutc  sptodate    gvkey  \n",
       "0  07JAN2014:08:06:00.000000       NaN  12141.0  \n",
       "1  03JAN2014:18:28:00.000000       NaN  12141.0  \n",
       "2  03JAN2014:18:24:00.000000       NaN  12141.0  \n",
       "3  07JAN2014:04:11:00.000000       NaN  12141.0  \n",
       "4  09JAN2014:10:32:00.000000       NaN  12141.0  "
      ]
     },
     "execution_count": 4,
     "metadata": {},
     "output_type": "execute_result"
    }
   ],
   "source": [
    "df = pd.read_csv('Culture- Key Developments.csv')\n",
    "df.info()\n",
    "df.head()"
   ]
  },
  {
   "cell_type": "code",
   "execution_count": 8,
   "id": "c46262e1-18c8-4b6f-a4d0-65141bcd4c5d",
   "metadata": {
    "tags": []
   },
   "outputs": [
    {
     "name": "stdout",
     "output_type": "stream",
     "text": [
      "      companyname  companyid     gvkey  year  count\n",
      "0   Alphabet Inc.      29096  160329.0  2014    335\n",
      "1   Alphabet Inc.      29096  160329.0  2015    180\n",
      "2   Alphabet Inc.      29096  160329.0  2016    150\n",
      "3   Alphabet Inc.      29096  160329.0  2017    251\n",
      "4   Alphabet Inc.      29096  160329.0  2018    248\n",
      "..            ...        ...       ...   ...    ...\n",
      "87   Walmart Inc.     313055   11259.0  2020    156\n",
      "88   Walmart Inc.     313055   11259.0  2021    235\n",
      "89   Walmart Inc.     313055   11259.0  2022    235\n",
      "90   Walmart Inc.     313055   11259.0  2023    211\n",
      "91   Walmart Inc.     313055   11259.0  2024     31\n",
      "\n",
      "[92 rows x 5 columns]\n"
     ]
    }
   ],
   "source": [
    "import pandas as pd\n",
    "\n",
    "# Assuming your data is stored in a DataFrame called df\n",
    "# You may need to adjust column names and data types accordingly\n",
    "\n",
    "# Convert announcedate column to datetime\n",
    "df['announcedate'] = pd.to_datetime(df['announcedate'], format=\"%m/%d/%Y\")\n",
    "\n",
    "# Extract year from announcedate\n",
    "df['year'] = df['announcedate'].dt.year\n",
    "\n",
    "# Group by ticker and year, and count the number of observations in each group\n",
    "ticker_year_counts = df.groupby(['companyname', 'companyid', 'gvkey', 'year']).size().reset_index(name='count')\n",
    "\n",
    "# Print the aggregated counts\n",
    "print(ticker_year_counts)\n"
   ]
  },
  {
   "cell_type": "code",
   "execution_count": 9,
   "id": "618b1ab2-0f3a-47d2-8494-4201cf1d983f",
   "metadata": {
    "tags": []
   },
   "outputs": [],
   "source": [
    "#ticker_year_counts.to_csv('Key Developments Annual.csv', index=False)"
   ]
  },
  {
   "cell_type": "code",
   "execution_count": null,
   "id": "fd87fcb2-8435-4a55-b762-b6e1e5228756",
   "metadata": {},
   "outputs": [],
   "source": []
  }
 ],
 "metadata": {
  "kernelspec": {
   "display_name": "Python 3 (ipykernel)",
   "language": "python",
   "name": "python3"
  },
  "language_info": {
   "codemirror_mode": {
    "name": "ipython",
    "version": 3
   },
   "file_extension": ".py",
   "mimetype": "text/x-python",
   "name": "python",
   "nbconvert_exporter": "python",
   "pygments_lexer": "ipython3",
   "version": "3.11.4"
  }
 },
 "nbformat": 4,
 "nbformat_minor": 5
}
